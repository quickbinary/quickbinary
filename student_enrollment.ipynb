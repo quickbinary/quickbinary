{
  "nbformat": 4,
  "nbformat_minor": 0,
  "metadata": {
    "colab": {
      "provenance": [],
      "authorship_tag": "ABX9TyM3t6Z96NE6BuudHEEPU16G",
      "include_colab_link": true
    },
    "kernelspec": {
      "name": "python3",
      "display_name": "Python 3"
    },
    "language_info": {
      "name": "python"
    }
  },
  "cells": [
    {
      "cell_type": "markdown",
      "metadata": {
        "id": "view-in-github",
        "colab_type": "text"
      },
      "source": [
        "<a href=\"https://colab.research.google.com/github/quickbinary/quickbinary/blob/main/student_enrollment.ipynb\" target=\"_parent\"><img src=\"https://colab.research.google.com/assets/colab-badge.svg\" alt=\"Open In Colab\"/></a>"
      ]
    },
    {
      "cell_type": "code",
      "source": [
        "#ZETECH UNIVERSITY MANGU CAMPUS\n",
        "import pandas as pd\n",
        "import random\n",
        "from datetime import datetime, timedelta\n",
        "\n",
        "# Sample course names for students at the Mangu Campus\n",
        "courses = [\"Mathematics\", \"Physics\", \"Biology\", \"History\", \"Computer Science\"]\n",
        "\n",
        "# Generate random enrollment records for 50  students taking computer scienvce\n",
        "num_students = 50\n",
        "enrollment_data = []\n",
        "\n",
        "for student_id in range(1, num_students + 1):\n",
        "    # Random program duration between 2 to 4 years\n",
        "    program_duration = random.randint(2, 4)\n",
        "    start_date = datetime(2022, 1, 1)  # Start date for enrollment\n",
        "\n",
        "    for year in range(program_duration):\n",
        "        for semester in [\"Semester 1\", \"Semester 2\"]:\n",
        "            # Randomly choose a course for each semester\n",
        "            course = random.choice(courses)\n",
        "\n",
        "            # Generate random grade (A, B, C, D, E)\n",
        "            grade = random.choice([\"A\", \"B\", \"C\", \"D\", \"E\"])\n",
        "\n",
        "            # Generate random credits (typically between 1 to 4)\n",
        "            credits = random.randint(1, 4)\n",
        "\n",
        "            # Create enrollment record\n",
        "            enrollment_data.append({\n",
        "                \"Student_ID\": student_id,\n",
        "                \"Course_Name\": course,\n",
        "                \"Grade\": grade,\n",
        "                \"Credits\": credits,\n",
        "                \"Semester\": f\"{semester} {start_date.year + year}\",  # Semester and year\n",
        "                \"Enrollment_Date\": start_date.strftime(\"%Y-%m-%d\")\n",
        "            })\n",
        "            start_date += timedelta(days=180)  # Increment by approximately 6 months for next semester\n",
        "\n",
        "# Create a DataFrame from the generated data\n",
        "enrollment_df = pd.DataFrame(enrollment_data)\n",
        "\n",
        "# Display a sample of the generated  data\n",
        "print(enrollment_df.head(10))\n"
      ],
      "metadata": {
        "colab": {
          "base_uri": "https://localhost:8080/"
        },
        "id": "dFXzugsVqNrF",
        "outputId": "b7250d8f-cf71-446a-c564-39ea15fb97ab"
      },
      "execution_count": 4,
      "outputs": [
        {
          "output_type": "stream",
          "name": "stdout",
          "text": [
            "   Student_ID       Course_Name Grade  Credits         Semester  \\\n",
            "0           1  Computer Science     A        4  Semester 1 2022   \n",
            "1           1  Computer Science     C        2  Semester 2 2022   \n",
            "2           1  Computer Science     A        4  Semester 1 2023   \n",
            "3           1  Computer Science     A        2  Semester 2 2024   \n",
            "4           1           Physics     B        4  Semester 1 2025   \n",
            "5           1           Biology     A        1  Semester 2 2026   \n",
            "6           2  Computer Science     D        4  Semester 1 2022   \n",
            "7           2           Physics     A        1  Semester 2 2022   \n",
            "8           2           Biology     B        4  Semester 1 2023   \n",
            "9           2           History     E        4  Semester 2 2024   \n",
            "\n",
            "  Enrollment_Date  \n",
            "0      2022-01-01  \n",
            "1      2022-06-30  \n",
            "2      2022-12-27  \n",
            "3      2023-06-25  \n",
            "4      2023-12-22  \n",
            "5      2024-06-19  \n",
            "6      2022-01-01  \n",
            "7      2022-06-30  \n",
            "8      2022-12-27  \n",
            "9      2023-06-25  \n"
          ]
        }
      ]
    }
  ]
}